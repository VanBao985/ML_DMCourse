{
 "cells": [
  {
   "cell_type": "markdown",
   "metadata": {},
   "source": [
    "## Bài toán\n",
    "Dữ liệu gồm n văn bản phân vào 10 chủ đề khác nhau. Cần biễu diễn mỗi văn bản dưới dạng một vector số thể hiện cho nội dụng của văn bản đó."
   ]
  },
  {
   "cell_type": "markdown",
   "metadata": {},
   "source": [
    "## Mục lục\n",
    "- Load dữ liệu từ thư mục\n",
    "- Loại bỏ các stop words\n",
    "- Sử dụng thư viện để mã hóa TF-IDF cho mỗi văn bản"
   ]
  },
  {
   "cell_type": "markdown",
   "metadata": {},
   "source": [
    "## Phương pháp mã hóa: TF-IDF\n",
    "Cho tập gồm $n$ văn bản: $D = \\{d_1, d_2, ... d_n\\}$. Tập từ điển tương ứng được xây dựng từ $n$ văn bản này có độ dài là $m$\n",
    "- Xét văn bản $d$ có $|d|$ từ và $t$ là một từ trong $d$. Mã hóa tf-idf của $t$ trong văn bản $d$ được biểu diễn:\n",
    "\\begin{equation}\n",
    "    \\begin{split}\n",
    "        \\text{tf}_{t, d} &= \\frac{f_t}{|d|} \\\\\n",
    "        \\text{idf}_{t, d} &= \\log\\frac{n}{n_t}, \\ \\ \\ \\ n_t = |\\{d\\in D: t\\in d\\}| \\\\\n",
    "        \\text{tf-idf}_{t d} &= \\text{tf}_{t, d} \\times \\text{idf}_{t, d}\n",
    "    \\end{split}\n",
    "\\end{equation}\n",
    "\n",
    "- Khi đó văn bản $d$ được mã hóa là một vector $m$ chiều. Các từ xuất hiện trong d sẽ được thay bằng giá trị tf-idf tương ứng. Các từ không xuất hiện trong $d$ thì thay là 0"
   ]
  },
  {
   "cell_type": "code",
   "execution_count": 2,
   "metadata": {},
   "outputs": [],
   "source": [
    "import os\n",
    "import matplotlib.pyplot as plt\n",
    "import numpy as np\n",
    "\n",
    "from sklearn.datasets import load_files\n",
    "from pyvi import ViTokenizer\n",
    "from sklearn.feature_extraction.text import CountVectorizer\n",
    "from sklearn.feature_extraction.text import TfidfTransformer\n",
    "from sklearn.pipeline import Pipeline\n",
    "\n",
    "%matplotlib inline"
   ]
  },
  {
   "cell_type": "markdown",
   "metadata": {},
   "source": [
    "## Load dữ liệu từ thư mục\n",
    "\n",
    "Cấu trúc thư mục như sau \n",
    "\n",
    "- data/news_vnexpress/\n",
    "\n",
    "    - Kinh tế: \n",
    "        - bài báo 1.txt \n",
    "        - bài báo 2.txt \n",
    "    - Pháp luật\n",
    "        - bài báo 3.txt \n",
    "        - bài báo 4.txt "
   ]
  },
  {
   "cell_type": "code",
   "execution_count": 3,
   "metadata": {},
   "outputs": [],
   "source": [
    "INPUT = 'data/news_vnexpress'\n",
    "os.makedirs(\"images\",exist_ok=True)  # thư mục lưu các các hình ảnh trong quá trình huấn luyện và đánh gía"
   ]
  },
  {
   "cell_type": "code",
   "execution_count": 4,
   "metadata": {},
   "outputs": [
    {
     "name": "stdout",
     "output_type": "stream",
     "text": [
      "Các nhãn và số văn bản tương ứng trong dữ liệu\n",
      "----------------------------------------------\n",
      "doi-song: 120\n",
      "du-lich: 54\n",
      "giai-tri: 201\n",
      "giao-duc: 105\n",
      "khoa-hoc: 144\n",
      "kinh-doanh: 262\n",
      "phap-luat: 59\n",
      "suc-khoe: 162\n",
      "the-thao: 173\n",
      "thoi-su: 59\n",
      "-------------------------\n",
      "Tổng số văn bản: 1339\n"
     ]
    }
   ],
   "source": [
    "# statistics\n",
    "print('Các nhãn và số văn bản tương ứng trong dữ liệu')\n",
    "print('----------------------------------------------')\n",
    "n = 0\n",
    "for label in os.listdir(INPUT):\n",
    "    print(f'{label}: {len(os.listdir(os.path.join(INPUT, label)))}')\n",
    "    n += len(os.listdir(os.path.join(INPUT, label)))\n",
    "\n",
    "print('-------------------------')\n",
    "print(f\"Tổng số văn bản: {n}\")"
   ]
  },
  {
   "cell_type": "code",
   "execution_count": 5,
   "metadata": {},
   "outputs": [
    {
     "name": "stdout",
     "output_type": "stream",
     "text": [
      "mapping:\n",
      "doi-song - 0\n",
      "du-lich - 1\n",
      "giai-tri - 2\n",
      "giao-duc - 3\n",
      "khoa-hoc - 4\n",
      "kinh-doanh - 5\n",
      "phap-luat - 6\n",
      "suc-khoe - 7\n",
      "the-thao - 8\n",
      "thoi-su - 9\n",
      "--------------------------\n",
      "['data/news_vnexpress\\\\khoa-hoc\\\\00133.txt']\n",
      "[4]\n",
      "['Mời độc giả đặt câu hỏi tại đây\\n']\n",
      "\n",
      "Tổng số  văn bản: 1339\n"
     ]
    }
   ],
   "source": [
    "# load data\n",
    "data_train = load_files(container_path=INPUT, encoding=\"utf-8\")\n",
    "print('mapping:')\n",
    "for i in range(len(data_train.target_names)):\n",
    "    print(f'{data_train.target_names[i]} - {i}')\n",
    "\n",
    "print('--------------------------')\n",
    "print(data_train.filenames[0:1])\n",
    "# print(data_train.data[0:1])\n",
    "print(data_train.target[0:1])\n",
    "print(data_train.data[0:1])\n",
    "\n",
    "print(\"\\nTổng số  văn bản: {}\" .format( len(data_train.filenames)))"
   ]
  },
  {
   "cell_type": "markdown",
   "metadata": {},
   "source": [
    "## Chuyển dữ liệu dạng text về ma trận (n x m) bằng TF-IDF"
   ]
  },
  {
   "cell_type": "code",
   "execution_count": 6,
   "metadata": {},
   "outputs": [
    {
     "name": "stdout",
     "output_type": "stream",
     "text": [
      "Số lượng stopwords: 2063\n",
      "['a_lô', 'a_ha', 'ai', 'ai_ai', 'ai_nấy', 'ai_đó', 'alô', 'amen', 'anh', 'anh_ấy']\n",
      "\n",
      "Số lượng từ trong từ điển: 12794\n",
      "Kích thước dữ liệu sau khi xử lý: (1339, 12794)\n",
      "Kích thước nhãn tương ứng: (1339,)\n"
     ]
    }
   ],
   "source": [
    "# load dữ liệu các stopwords \n",
    "with open(\"data/vietnamese-stopwords.txt\", encoding=\"utf-8\", errors=\"ignore\") as f:\n",
    "    stopwords = f.readlines()\n",
    "stopwords = [x.strip().replace(\" \", \"_\") for x in stopwords] \n",
    "print(f\"Số lượng stopwords: {len(stopwords)}\")\n",
    "print(stopwords[:10])\n",
    "\n",
    "# Chuyển hoá dữ liệu text về dạng vector TF \n",
    "#     - loại bỏ từ dừng (stop words)\n",
    "#     - sinh từ điển\n",
    "module_count_vector = CountVectorizer(stop_words=stopwords)\n",
    "model_rf_preprocess = Pipeline([('vect', module_count_vector),\n",
    "                    ('tfidf', TfidfTransformer()),\n",
    "                    ])\n",
    "# Hàm thực hiện chuyển đổi dữ liệu text thành dữ liệu số dạng ma trận \n",
    "# Input: Dữ liệu 2 chiều dạng numpy.array, mảng nhãn id dạng numpy.array \n",
    "data_preprocessed = model_rf_preprocess.fit_transform(data_train.data, data_train.target)\n",
    "\n",
    "print(f\"\\nSố lượng từ trong từ điển: {len(module_count_vector.vocabulary_)}\")\n",
    "print(f\"Kích thước dữ liệu sau khi xử lý: {data_preprocessed.shape}\")\n",
    "print(f\"Kích thước nhãn tương ứng: {data_train.target.shape}\")"
   ]
  },
  {
   "cell_type": "code",
   "execution_count": 7,
   "metadata": {},
   "outputs": [],
   "source": [
    "X = data_preprocessed\n",
    "Y = data_train.target"
   ]
  },
  {
   "cell_type": "code",
   "execution_count": 8,
   "metadata": {},
   "outputs": [
    {
     "data": {
      "text/plain": [
       "((1339, 12794), (1339,))"
      ]
     },
     "execution_count": 8,
     "metadata": {},
     "output_type": "execute_result"
    }
   ],
   "source": [
    "X.shape, Y.shape"
   ]
  },
  {
   "cell_type": "code",
   "execution_count": 23,
   "metadata": {},
   "outputs": [
    {
     "name": "stdout",
     "output_type": "stream",
     "text": [
      "[[0.         0.         0.         ... 0.         0.14047909 0.        ]]\n",
      "5\n"
     ]
    }
   ],
   "source": [
    "print(X[100].toarray())\n",
    "print(Y[100])"
   ]
  },
  {
   "cell_type": "code",
   "execution_count": 24,
   "metadata": {},
   "outputs": [
    {
     "data": {
      "text/plain": [
       "np.int64(289)"
      ]
     },
     "execution_count": 24,
     "metadata": {},
     "output_type": "execute_result"
    }
   ],
   "source": [
    "sum(sum(X[100].toarray() != 0))"
   ]
  },
  {
   "cell_type": "code",
   "execution_count": 25,
   "metadata": {},
   "outputs": [
    {
     "name": "stdout",
     "output_type": "stream",
     "text": [
      "<Compressed Sparse Row sparse matrix of dtype 'float64'\n",
      "\twith 289 stored elements and shape (1, 12794)>\n",
      "  Coords\tValues\n",
      "  (0, 81)\t0.015210600075503207\n",
      "  (0, 100)\t0.020768188378930425\n",
      "  (0, 156)\t0.023261351455612565\n",
      "  (0, 188)\t0.047221897003560664\n",
      "  (0, 269)\t0.03323819172801037\n",
      "  (0, 392)\t0.024782219384691568\n",
      "  (0, 397)\t0.034230713959923546\n",
      "  (0, 418)\t0.04891486528569595\n",
      "  (0, 662)\t0.022768439273483886\n",
      "  (0, 909)\t0.033180077166638476\n",
      "  (0, 1194)\t0.0511669633301605\n",
      "  (0, 1209)\t0.102333926660321\n",
      "  (0, 1219)\t0.0511669633301605\n",
      "  (0, 1271)\t0.01602427109747773\n",
      "  (0, 1590)\t0.034972934749423014\n",
      "  (0, 1631)\t0.023492412503023054\n",
      "  (0, 1783)\t0.04734199730706182\n",
      "  (0, 1866)\t0.0511669633301605\n",
      "  (0, 2076)\t0.014562584276561891\n",
      "  (0, 2101)\t0.026934961949943485\n",
      "  (0, 2111)\t0.025773947875790803\n",
      "  (0, 2135)\t0.04321768742873188\n",
      "  (0, 2140)\t0.01567958623035775\n",
      "  (0, 2159)\t0.01610329399005839\n",
      "  (0, 2170)\t0.02950646667230756\n",
      "  :\t:\n",
      "  (0, 12270)\t0.021258146440605235\n",
      "  (0, 12452)\t0.07589473356362791\n",
      "  (0, 12507)\t0.017785010638087708\n",
      "  (0, 12515)\t0.03882965743622511\n",
      "  (0, 12519)\t0.09354830719368007\n",
      "  (0, 12533)\t0.05488011162410196\n",
      "  (0, 12545)\t0.04574987188457937\n",
      "  (0, 12556)\t0.03206024538173127\n",
      "  (0, 12564)\t0.03323819172801037\n",
      "  (0, 12582)\t0.03876520674278835\n",
      "  (0, 12589)\t0.07519042602330095\n",
      "  (0, 12615)\t0.07999899680566383\n",
      "  (0, 12622)\t0.3318007716663848\n",
      "  (0, 12624)\t0.019286831564177882\n",
      "  (0, 12627)\t0.0241714544425545\n",
      "  (0, 12641)\t0.030216394207194464\n",
      "  (0, 12644)\t0.04268668630324235\n",
      "  (0, 12670)\t0.03177629613038959\n",
      "  (0, 12689)\t0.020768188378930425\n",
      "  (0, 12690)\t0.01388422557577933\n",
      "  (0, 12695)\t0.039356536404698\n",
      "  (0, 12703)\t0.02492571201380041\n",
      "  (0, 12712)\t0.03440716970994533\n",
      "  (0, 12722)\t0.051223325744914894\n",
      "  (0, 12792)\t0.14047908957922503\n"
     ]
    }
   ],
   "source": [
    "print(X[100])"
   ]
  },
  {
   "cell_type": "code",
   "execution_count": null,
   "metadata": {},
   "outputs": [],
   "source": []
  }
 ],
 "metadata": {
  "kernelspec": {
   "display_name": "Python 3 (ipykernel)",
   "language": "python",
   "name": "python3"
  },
  "language_info": {
   "codemirror_mode": {
    "name": "ipython",
    "version": 3
   },
   "file_extension": ".py",
   "mimetype": "text/x-python",
   "name": "python",
   "nbconvert_exporter": "python",
   "pygments_lexer": "ipython3",
   "version": "3.12.4"
  }
 },
 "nbformat": 4,
 "nbformat_minor": 4
}
