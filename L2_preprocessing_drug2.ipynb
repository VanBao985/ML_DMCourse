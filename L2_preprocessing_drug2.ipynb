{
 "cells": [
  {
   "cell_type": "code",
   "execution_count": 2,
   "metadata": {
    "button": false,
    "deletable": true,
    "new_sheet": false,
    "run_control": {
     "read_only": false
    }
   },
   "outputs": [
    {
     "ename": "ModuleNotFoundError",
     "evalue": "No module named 'sklearn'",
     "output_type": "error",
     "traceback": [
      "\u001b[1;31m---------------------------------------------------------------------------\u001b[0m",
      "\u001b[1;31mModuleNotFoundError\u001b[0m                       Traceback (most recent call last)",
      "Cell \u001b[1;32mIn[2], line 3\u001b[0m\n\u001b[0;32m      1\u001b[0m \u001b[38;5;28;01mimport\u001b[39;00m \u001b[38;5;21;01mnumpy\u001b[39;00m \u001b[38;5;28;01mas\u001b[39;00m \u001b[38;5;21;01mnp\u001b[39;00m\n\u001b[0;32m      2\u001b[0m \u001b[38;5;28;01mimport\u001b[39;00m \u001b[38;5;21;01mpandas\u001b[39;00m \u001b[38;5;28;01mas\u001b[39;00m \u001b[38;5;21;01mpd\u001b[39;00m\n\u001b[1;32m----> 3\u001b[0m \u001b[38;5;28;01mfrom\u001b[39;00m \u001b[38;5;21;01msklearn\u001b[39;00m \u001b[38;5;28;01mimport\u001b[39;00m preprocessing\n",
      "\u001b[1;31mModuleNotFoundError\u001b[0m: No module named 'sklearn'"
     ]
    }
   ],
   "source": [
    "import numpy as np\n",
    "import pandas as pd\n",
    "from sklearn import preprocessing\n",
    "import scikit-learn "
   ]
  },
  {
   "cell_type": "code",
   "execution_count": null,
   "metadata": {
    "button": false,
    "deletable": true,
    "new_sheet": false,
    "run_control": {
     "read_only": false
    }
   },
   "outputs": [],
   "source": [
    "my_data = pd.read_csv(\"data/drug200.csv\", delimiter=\",\")\n",
    "my_data[0:5]"
   ]
  },
  {
   "cell_type": "code",
   "execution_count": null,
   "metadata": {},
   "outputs": [],
   "source": [
    "my_data.shape"
   ]
  },
  {
   "cell_type": "code",
   "execution_count": null,
   "metadata": {},
   "outputs": [],
   "source": [
    "X = my_data[['Age', 'Sex', 'BP', 'Cholesterol', 'Na_to_K']].values\n",
    "y = my_data[\"Drug\"]"
   ]
  },
  {
   "cell_type": "code",
   "execution_count": null,
   "metadata": {},
   "outputs": [],
   "source": [
    "print(X[0:5])\n",
    "print(y[0:5])"
   ]
  },
  {
   "cell_type": "markdown",
   "metadata": {},
   "source": [
    "### Tiền xử lý dữ liệu cho __X__ và __y__ để đưa về dạng số thực sử dụng các phương pháp:\n",
    "- One-hot encoding cho trường thuộc tính thứ 2, 3, 4 của __X__\n",
    "- Chuẩn hóa trường dữ liệu đầu tiên và cuối cùng của __X__ về khoảng (0, 1)\n",
    "- Sử dụng One-hot encoding cho y\n",
    "- Có thể tham khảo thư viện mã hóa one hot tại: https://scikit-learn.org/stable/modules/generated/sklearn.preprocessing.OneHotEncoder.html"
   ]
  },
  {
   "cell_type": "code",
   "execution_count": null,
   "metadata": {},
   "outputs": [],
   "source": [
    "### YOUR CODE HERE ###"
   ]
  },
  {
   "cell_type": "code",
   "execution_count": 8,
   "metadata": {},
   "outputs": [
    {
     "name": "stdout",
     "output_type": "stream",
     "text": [
      "X_new.shape: (200, 9)\n",
      "y_new.shape: (200, 5)\n",
      "X_new[:, 0].min() = 0.0\n",
      "X_new[:, 0].max() = 1.0\n",
      "X_new[:, -1].min() = 0.0\n",
      "X_new[:, -1].max() = 1.0\n",
      "\n",
      "5 hàng đầu tiên của X và y:\n",
      "[[0.13559322 1.         0.         1.         0.         0.\n",
      "  1.         0.         0.59684783]\n",
      " [0.54237288 0.         1.         0.         1.         0.\n",
      "  1.         0.         0.21339671]\n",
      " [0.54237288 0.         1.         0.         1.         0.\n",
      "  1.         0.         0.12023891]\n",
      " [0.22033898 1.         0.         0.         0.         1.\n",
      "  1.         0.         0.04781412]\n",
      " [0.77966102 1.         0.         0.         1.         0.\n",
      "  1.         0.         0.36819063]]\n",
      "[[0. 0. 0. 0. 1.]\n",
      " [0. 0. 1. 0. 0.]\n",
      " [0. 0. 1. 0. 0.]\n",
      " [0. 0. 0. 1. 0.]\n",
      " [0. 0. 0. 0. 1.]]\n"
     ]
    },
    {
     "data": {
      "text/plain": [
       "'\\nChú ý:\\n - Việc mã hõa one-hot có thể khác nhau tùy theo cách quy ước.\\n - Giá trị ở cột đầu tiên và cuối cùng của X_new là cố định\\n - Mỗi dòng của mã hóa one hot ứng với một thuộc tính chỉ được phép có 1 số 1.\\n'"
      ]
     },
     "execution_count": 8,
     "metadata": {},
     "output_type": "execute_result"
    }
   ],
   "source": [
    "print(f'X_new.shape: {X_new.shape}')\n",
    "print(f'y_new.shape: {y_new.shape}')\n",
    "print(f'X_new[:, 0].min() = {X_new[:, 0].min()}')\n",
    "print(f'X_new[:, 0].max() = {X_new[:, 0].max()}')\n",
    "print(f'X_new[:, -1].min() = {X_new[:, -1].min()}')\n",
    "print(f'X_new[:, -1].max() = {X_new[:, -1].max()}')\n",
    "print(\"\\n5 hàng đầu tiên của X và y:\")\n",
    "print(X_new[0:5, :])\n",
    "print(y_new[0:5, :])\n",
    "\n",
    "\"\"\"\n",
    "Chú ý:\n",
    " - Việc mã hõa one-hot có thể khác nhau tùy theo cách quy ước.\n",
    " - Giá trị ở cột đầu tiên và cuối cùng của X_new là cố định\n",
    " - Mỗi dòng của mã hóa one hot ứng với một thuộc tính chỉ được phép có 1 số 1.\n",
    "\"\"\""
   ]
  },
  {
   "cell_type": "code",
   "execution_count": null,
   "metadata": {},
   "outputs": [],
   "source": []
  }
 ],
 "metadata": {
  "anaconda-cloud": {},
  "kernelspec": {
   "display_name": "Python 3",
   "language": "python",
   "name": "python3"
  },
  "language_info": {
   "codemirror_mode": {
    "name": "ipython",
    "version": 3
   },
   "file_extension": ".py",
   "mimetype": "text/x-python",
   "name": "python",
   "nbconvert_exporter": "python",
   "pygments_lexer": "ipython3",
   "version": "3.12.2"
  },
  "widgets": {
   "state": {},
   "version": "1.1.2"
  }
 },
 "nbformat": 4,
 "nbformat_minor": 4
}
